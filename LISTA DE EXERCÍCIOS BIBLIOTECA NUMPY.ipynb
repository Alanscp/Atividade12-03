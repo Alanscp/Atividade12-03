{
 "cells": [
  {
   "cell_type": "code",
   "execution_count": 7,
   "id": "702943f8-e832-4409-b602-97901e9c296d",
   "metadata": {},
   "outputs": [
    {
     "name": "stdout",
     "output_type": "stream",
     "text": [
      "[3.0, 5.0, 9.0, 16.0, 25.0]\n"
     ]
    }
   ],
   "source": [
    "#Converta os elementos do array [3, 5, 9, 16, 25] para float.\n",
    "\n",
    "array_inteiros = [3, 5, 9, 16, 25]\n",
    "\n",
    "array_floats = [float(elemento) for elemento in array_inteiros]\n",
    "\n",
    "print(array_floats)"
   ]
  },
  {
   "cell_type": "code",
   "execution_count": 11,
   "id": "d27ca0f3-2a24-4b5e-8348-200a86ec2f73",
   "metadata": {},
   "outputs": [
    {
     "name": "stdout",
     "output_type": "stream",
     "text": [
      "[1, -3, 8, 16]\n"
     ]
    }
   ],
   "source": [
    "#Dado o array [1.2, -3.6, 8.99999, 16.1], converta os seus elementos para int.\n",
    "\n",
    "array_floats = [1.2, -3.6, 8.99999, 16.1]\n",
    "\n",
    "array_inteiros = [int(elemento) for elemento in array_floats]\n",
    "\n",
    "print(array_inteiros)"
   ]
  },
  {
   "cell_type": "code",
   "execution_count": 7,
   "id": "e56a2b4f-f6ce-4ef2-9823-c26aa12265d5",
   "metadata": {},
   "outputs": [
    {
     "name": "stdout",
     "output_type": "stream",
     "text": [
      "[[0. 0. 0. 0. 0. 0. 0. 0. 0.]\n",
      " [0. 0. 0. 0. 0. 0. 0. 0. 0.]\n",
      " [0. 0. 0. 0. 0. 0. 0. 0. 0.]]\n"
     ]
    }
   ],
   "source": [
    "#Crie uma matriz 3x9 contendo apenas elementos com valor zero.\n",
    "\n",
    "import numpy as np\n",
    "\n",
    "matriz_zeros = np.zeros((3, 9))\n",
    "\n",
    "print(matriz_zeros)"
   ]
  },
  {
   "cell_type": "code",
   "execution_count": 5,
   "id": "1a710bcb-6be5-4486-a0e5-9e5a81e0d312",
   "metadata": {},
   "outputs": [
    {
     "name": "stdout",
     "output_type": "stream",
     "text": [
      "[[1 1 1 1 1 1 1]\n",
      " [1 1 1 1 1 1 1]\n",
      " [1 1 1 1 1 1 1]\n",
      " [1 1 1 1 1 1 1]\n",
      " [1 1 1 1 1 1 1]\n",
      " [1 1 1 1 1 1 1]]\n"
     ]
    }
   ],
   "source": [
    "#Crie uma matriz 6x7 de números inteiros contendo elementos com valor 1.\n",
    "\n",
    "import numpy as np\n",
    "\n",
    "matriz = np.ones((6, 7), dtype=int)\n",
    "\n",
    "print(matriz)"
   ]
  },
  {
   "cell_type": "code",
   "execution_count": 9,
   "id": "502f19d6-b451-4d78-8c94-7f664b82d334",
   "metadata": {},
   "outputs": [
    {
     "name": "stdout",
     "output_type": "stream",
     "text": [
      "[[1. 0. 0. 0.]\n",
      " [0. 1. 0. 0.]\n",
      " [0. 0. 1. 0.]\n",
      " [0. 0. 0. 1.]]\n"
     ]
    }
   ],
   "source": [
    "#Crie uma matriz identidade de tamanho 4.\n",
    "\n",
    "import numpy as np\n",
    "\n",
    "matriz_identidade = np.eye(4)\n",
    "\n",
    "print(matriz_identidade)"
   ]
  },
  {
   "cell_type": "code",
   "execution_count": 11,
   "id": "9b693c29-76e7-45dd-a4c2-c6bd6e9eb4a4",
   "metadata": {},
   "outputs": [
    {
     "name": "stdout",
     "output_type": "stream",
     "text": [
      "[0.58483203 0.45744499 0.73034963 0.33104352 0.32065415]\n"
     ]
    }
   ],
   "source": [
    "#Crie um array de números aleatórios entre 0 e 1 de tamanho 5.\n",
    "\n",
    "import numpy as np\n",
    "\n",
    "array_aleatorio = np.random.rand(5)\n",
    "\n",
    "print(array_aleatorio)"
   ]
  },
  {
   "cell_type": "code",
   "execution_count": 19,
   "id": "9358af82-e359-42f0-b60c-eb7954aeef6a",
   "metadata": {},
   "outputs": [
    {
     "name": "stdout",
     "output_type": "stream",
     "text": [
      "[[3 1 0 5 2 2]\n",
      " [5 4 4 0 4 0]\n",
      " [3 5 2 1 4 4]]\n"
     ]
    }
   ],
   "source": [
    "#Crie uma matriz 3x6 contendo números aleatórios de 0 a 5 (0, 1, 2, 3, 4, 5).\n",
    "\n",
    "import numpy as np\n",
    "\n",
    "matriz_randomica = np.random.randint(0, 6, size=(3, 6))\n",
    "\n",
    "print(matriz_randomica)"
   ]
  },
  {
   "cell_type": "code",
   "execution_count": 21,
   "id": "76e10bf4-5c1c-46ca-8b53-29760387c907",
   "metadata": {},
   "outputs": [
    {
     "name": "stdout",
     "output_type": "stream",
     "text": [
      "O valor máximo da matriz é: 22\n"
     ]
    }
   ],
   "source": [
    "#Informe o código para exibir o valor máximo da matriz.\n",
    "\n",
    "import numpy as np\n",
    "\n",
    "matriz_exemplo = np.array([[4, 6, 8],\n",
    "                           [-4, 3, 2],\n",
    "                           [22, -15, 12]])\n",
    "\n",
    "valor_maximo = np.max(matriz_exemplo)\n",
    "\n",
    "print(\"O valor máximo da matriz é:\", valor_maximo)"
   ]
  },
  {
   "cell_type": "code",
   "execution_count": 23,
   "id": "c98c9aa0-dba4-4c27-b113-9d1ea3874482",
   "metadata": {},
   "outputs": [
    {
     "name": "stdout",
     "output_type": "stream",
     "text": [
      "O valor mínimo da matriz é: -15\n"
     ]
    }
   ],
   "source": [
    "#Qual o código para exibir o valor mínimo da matriz?\n",
    "\n",
    "import numpy as np\n",
    "\n",
    "matriz_exemplo = np.array([[4, 6, 8],\n",
    "                           [-4, 3, 2],\n",
    "                           [22, -15, 12]])\n",
    "\n",
    "valor_minimo = np.min(matriz_exemplo)\n",
    "\n",
    "print(\"O valor mínimo da matriz é:\", valor_minimo)"
   ]
  },
  {
   "cell_type": "code",
   "execution_count": 25,
   "id": "79f02d56-1dff-481c-9cf3-9f30db9c7bfe",
   "metadata": {},
   "outputs": [
    {
     "name": "stdout",
     "output_type": "stream",
     "text": [
      "A média dos elementos da matriz é: 1.0\n"
     ]
    }
   ],
   "source": [
    "#Como fazer para imprimir na tela a soma dos elementos da matriz?\n",
    "\n",
    "import numpy as np\n",
    "\n",
    "matriz_exemplo = np.array([[4, 6, 8],\n",
    "                           [-4, 3, 2],\n",
    "                           [22, -15, 12]])\n",
    "\n",
    "media = np.mean(matriz)\n",
    "\n",
    "# Exibe a média\n",
    "print(\"A média dos elementos da matriz é:\", media)"
   ]
  },
  {
   "cell_type": "code",
   "execution_count": 29,
   "id": "c60d39d8-c94a-4e0a-beaf-8c4480144daa",
   "metadata": {},
   "outputs": [
    {
     "name": "stdout",
     "output_type": "stream",
     "text": [
      "O 4º elemento do array é: 8\n"
     ]
    }
   ],
   "source": [
    "#Exibir o 4º elemento do array.\n",
    "\n",
    "array = [13, -2, 6, 8, 23, 15, 3, 90, 4, 10, 56, 12]\n",
    "\n",
    "print(\"O 4º elemento do array é:\", array[3])"
   ]
  },
  {
   "cell_type": "code",
   "execution_count": 31,
   "id": "d3b9271d-9481-4282-b9af-7c87dc6039a8",
   "metadata": {},
   "outputs": [
    {
     "name": "stdout",
     "output_type": "stream",
     "text": [
      "Os 3 últimos elementos do array são: [10, 56, 12]\n"
     ]
    }
   ],
   "source": [
    "#Exibir os 3 últimos elementos do array.\n",
    "\n",
    "array = [13, -2, 6, 8, 23, 15, 3, 90, 4, 10, 56, 12]\n",
    "\n",
    "print(\"Os 3 últimos elementos do array são:\", array[-3:])"
   ]
  },
  {
   "cell_type": "code",
   "execution_count": 37,
   "id": "37c8cbf2-81c3-4c96-aa50-2537729d43da",
   "metadata": {},
   "outputs": [
    {
     "name": "stdout",
     "output_type": "stream",
     "text": [
      "Os elementos a partir da posição 2 são: [-2, 6, 8, 23, 15, 3, 90, 4, 10, 56, 12]\n"
     ]
    }
   ],
   "source": [
    "#Exibir os elementos a partir da posição 2.\n",
    "\n",
    "array = [13, -2, 6, 8, 23, 15, 3, 90, 4, 10, 56, 12]\n",
    "\n",
    "print(\"Os elementos a partir da posição 2 são:\", array[1:])"
   ]
  },
  {
   "cell_type": "code",
   "execution_count": 39,
   "id": "72294436-60d8-4419-82a8-8afc9c040929",
   "metadata": {},
   "outputs": [
    {
     "name": "stdout",
     "output_type": "stream",
     "text": [
      "O subarray entre o 2º e o 6º elementos é: [-2, 6, 8, 23, 15]\n"
     ]
    }
   ],
   "source": [
    "#Exibir um array entre o 2º e o 6º elementos. O 6º elemento deve estar presente.\n",
    "\n",
    "array = [13, -2, 6, 8, 23, 15, 3, 90, 4, 10, 56, 12]\n",
    "\n",
    "print(\"O subarray entre o 2º e o 6º elementos é:\", array[1:6])"
   ]
  },
  {
   "cell_type": "code",
   "execution_count": 43,
   "id": "af5bbb48-d3be-4c8e-af43-7c83078cd113",
   "metadata": {},
   "outputs": [
    {
     "name": "stdout",
     "output_type": "stream",
     "text": [
      "O array desejado é: [23, 15, 3, 90]\n"
     ]
    }
   ],
   "source": [
    "#Escreva o código que resulta na exibição do seguinte array: [23 15 3 90] \n",
    "\n",
    "array = [13, -2, 6, 8, 23, 15, 3, 90, 4, 10, 56, 12]\n",
    "\n",
    "print(\"O array desejado é:\", array[4:8])"
   ]
  },
  {
   "cell_type": "code",
   "execution_count": 52,
   "id": "11b8c3a5-1cf2-4738-a7da-ff0e27f4ba21",
   "metadata": {},
   "outputs": [
    {
     "name": "stdout",
     "output_type": "stream",
     "text": [
      "A 3ª linha da matriz é: [19  4  8 15 13]\n"
     ]
    }
   ],
   "source": [
    "#Escreva o código para exibir a 3ª linha da matriz.\n",
    "\n",
    "import numpy as np\n",
    "\n",
    "matriz = np.array([\n",
    "    [1, 3, 16, -25, 14],\n",
    "    [2, 0, 10, 5, 17],\n",
    "    [19, 4, 8, 15, 13],\n",
    "    [7, 12, -5, 14, 0]\n",
    "])\n",
    "\n",
    "terceira_linha = matriz[2]\n",
    "\n",
    "print(\"A 3ª linha da matriz é:\", terceira_linha)"
   ]
  },
  {
   "cell_type": "code",
   "execution_count": 54,
   "id": "35c14d38-59fd-4811-a04c-f31ea748b934",
   "metadata": {},
   "outputs": [
    {
     "name": "stdout",
     "output_type": "stream",
     "text": [
      "A 4ª coluna da matriz é: [-25   5  15  14]\n"
     ]
    }
   ],
   "source": [
    "#Escreva o código para exibir a 4ª coluna\n",
    "\n",
    "import numpy as np\n",
    "\n",
    "matriz = np.array([\n",
    "    [1, 3, 16, -25, 14],\n",
    "    [2, 0, 10, 5, 17],\n",
    "    [19, 4, 8, 15, 13],\n",
    "    [7, 12, -5, 14, 0]\n",
    "])\n",
    "\n",
    "quarta_coluna = matriz[:, 3]\n",
    "\n",
    "print(\"A 4ª coluna da matriz é:\", quarta_coluna)"
   ]
  },
  {
   "cell_type": "code",
   "execution_count": 63,
   "id": "8fa4e847-7e82-4ea7-ac3d-53a19cd37bb7",
   "metadata": {},
   "outputs": [
    {
     "name": "stdout",
     "output_type": "stream",
     "text": [
      "O elemento de valor: 10\n"
     ]
    }
   ],
   "source": [
    "#Escreva o código para exibir o elemento de valor 10.\n",
    "\n",
    "import numpy as np\n",
    "\n",
    "matriz = np.array([\n",
    "    [1, 3, 16, -25, 14],\n",
    "    [2, 0, 10, 5, 17],\n",
    "    [19, 4, 8, 15, 13],\n",
    "    [7, 12, -5, 14, 0]\n",
    "])\n",
    "\n",
    "print(\"O elemento de valor:\", matriz[1, 2])"
   ]
  },
  {
   "cell_type": "code",
   "execution_count": 65,
   "id": "5d7af925-6980-43be-bb30-a937a4d6c935",
   "metadata": {},
   "outputs": [
    {
     "name": "stdout",
     "output_type": "stream",
     "text": [
      "A matriz resultante é:\n",
      "[[ 0 10  5]\n",
      " [ 4  8 15]]\n"
     ]
    }
   ],
   "source": [
    "#Escreva o código que resulta na seguinte matriz:[[0\t10\t5] [4\t8\t15]]\n",
    "\n",
    "import numpy as np\n",
    "\n",
    "matriz_original = np.array([\n",
    "    [1, 3, 16, -25, 14],\n",
    "    [2, 0, 10, 5, 17],\n",
    "    [19, 4, 8, 15, 13],\n",
    "    [7, 12, -5, 14, 0]\n",
    "])\n",
    "\n",
    "matriz_resultante = matriz_original[1:3, 1:4]\n",
    "\n",
    "print(\"A matriz resultante é:\")\n",
    "print(matriz_resultante)"
   ]
  },
  {
   "cell_type": "code",
   "execution_count": 69,
   "id": "3e36981b-76d8-43a9-acda-361eeaffd8b4",
   "metadata": {},
   "outputs": [
    {
     "name": "stdout",
     "output_type": "stream",
     "text": [
      "A nova matriz é:\n",
      "[[2 1 1 2]\n",
      " [1 2 2 1]\n",
      " [1 2 1 1]]\n"
     ]
    }
   ],
   "source": [
    "#Crie uma nova matriz, atribuindo o valor 1 para os números ímpares, e 2, para os números pares, utilizando a biblioteca numpy.\n",
    "\n",
    "import numpy as np\n",
    "\n",
    "matriz = np.array([\n",
    "    [2, -1, 15, 24],\n",
    "    [-3, 18, 4, 25],\n",
    "    [9, 10, -13, 7]\n",
    "])\n",
    "\n",
    "nova_matriz = np.where(matriz % 2 == 0, 2, 1)\n",
    "\n",
    "print(\"A nova matriz é:\")\n",
    "print(nova_matriz)"
   ]
  },
  {
   "cell_type": "code",
   "execution_count": null,
   "id": "e95b4bdc-1a72-476f-8a91-cf7caafe6461",
   "metadata": {},
   "outputs": [],
   "source": []
  }
 ],
 "metadata": {
  "kernelspec": {
   "display_name": "Python [conda env:base] *",
   "language": "python",
   "name": "conda-base-py"
  },
  "language_info": {
   "codemirror_mode": {
    "name": "ipython",
    "version": 3
   },
   "file_extension": ".py",
   "mimetype": "text/x-python",
   "name": "python",
   "nbconvert_exporter": "python",
   "pygments_lexer": "ipython3",
   "version": "3.12.7"
  }
 },
 "nbformat": 4,
 "nbformat_minor": 5
}
