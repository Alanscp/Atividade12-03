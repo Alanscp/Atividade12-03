{
 "cells": [
  {
   "cell_type": "code",
   "execution_count": 7,
   "id": "702943f8-e832-4409-b602-97901e9c296d",
   "metadata": {},
   "outputs": [
    {
     "name": "stdout",
     "output_type": "stream",
     "text": [
      "[3.0, 5.0, 9.0, 16.0, 25.0]\n"
     ]
    }
   ],
   "source": [
    "#Converta os elementos do array [3, 5, 9, 16, 25] para float.\n",
    "array_inteiros = [3, 5, 9, 16, 25]\n",
    "\n",
    "array_floats = [float(elemento) for elemento in array_inteiros]\n",
    "\n",
    "print(array_floats)"
   ]
  },
  {
   "cell_type": "code",
   "execution_count": 11,
   "id": "d27ca0f3-2a24-4b5e-8348-200a86ec2f73",
   "metadata": {},
   "outputs": [
    {
     "name": "stdout",
     "output_type": "stream",
     "text": [
      "[1, -3, 8, 16]\n"
     ]
    }
   ],
   "source": [
    "#Dado o array [1.2, -3.6, 8.99999, 16.1], converta os seus elementos para int.\n",
    "\n",
    "array_floats = [1.2, -3.6, 8.99999, 16.1]\n",
    "\n",
    "array_inteiros = [int(elemento) for elemento in array_floats]\n",
    "\n",
    "print(array_inteiros)"
   ]
  },
  {
   "cell_type": "code",
   "execution_count": 15,
   "id": "e56a2b4f-f6ce-4ef2-9823-c26aa12265d5",
   "metadata": {},
   "outputs": [
    {
     "name": "stdout",
     "output_type": "stream",
     "text": [
      "[[0. 0. 0. 0. 0. 0. 0. 0. 0.]\n",
      " [0. 0. 0. 0. 0. 0. 0. 0. 0.]\n",
      " [0. 0. 0. 0. 0. 0. 0. 0. 0.]]\n"
     ]
    }
   ],
   "source": [
    "#Crie uma matriz 3x9 contendo apenas elementos com valor zero.\n",
    "\n",
    "import numpy as np\n",
    "\n",
    "matriz_zeros = np.zeros((3, 9))\n",
    "\n",
    "print(matriz_zeros)"
   ]
  },
  {
   "cell_type": "code",
   "execution_count": null,
   "id": "1a710bcb-6be5-4486-a0e5-9e5a81e0d312",
   "metadata": {},
   "outputs": [],
   "source": []
  }
 ],
 "metadata": {
  "kernelspec": {
   "display_name": "Python [conda env:base] *",
   "language": "python",
   "name": "conda-base-py"
  },
  "language_info": {
   "codemirror_mode": {
    "name": "ipython",
    "version": 3
   },
   "file_extension": ".py",
   "mimetype": "text/x-python",
   "name": "python",
   "nbconvert_exporter": "python",
   "pygments_lexer": "ipython3",
   "version": "3.12.7"
  }
 },
 "nbformat": 4,
 "nbformat_minor": 5
}
